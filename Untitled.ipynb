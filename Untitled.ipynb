{
 "cells": [
  {
   "cell_type": "code",
   "execution_count": 4,
   "id": "76b81a66-86fc-42d5-91bd-9c418629f06f",
   "metadata": {},
   "outputs": [
    {
     "name": "stdout",
     "output_type": "stream",
     "text": [
      "name:  junayed\n",
      "age:  20\n"
     ]
    }
   ],
   "source": [
    "#python default constructor\n",
    "class A:\n",
    "    name=\"junayed\"\n",
    "    age=20\n",
    "    def __init__(self):\n",
    "        print(\"name: \",self.name)\n",
    "    def show(self):\n",
    "        print(\"age: \",self.age)\n",
    "        \n",
    "\n",
    "obj=A()\n",
    "obj.show()"
   ]
  },
  {
   "cell_type": "code",
   "execution_count": 23,
   "id": "24142c2b-c0d6-4017-869b-9f5d27f81489",
   "metadata": {},
   "outputs": [
    {
     "name": "stdout",
     "output_type": "stream",
     "text": [
      "20  10  100\n",
      "\n"
     ]
    },
    {
     "ename": "NameError",
     "evalue": "name 'self' is not defined",
     "output_type": "error",
     "traceback": [
      "\u001b[31m---------------------------------------------------------------------------\u001b[39m",
      "\u001b[31mNameError\u001b[39m                                 Traceback (most recent call last)",
      "\u001b[36mCell\u001b[39m\u001b[36m \u001b[39m\u001b[32mIn[23]\u001b[39m\u001b[32m, line 3\u001b[39m\n\u001b[32m      1\u001b[39m \u001b[38;5;66;03m#access   modifiey\u001b[39;00m\n\u001b[32m      2\u001b[39m \u001b[38;5;66;03m#type -> 1.public a ,2.protected_a ,3.private __a,\u001b[39;00m\n\u001b[32m----> \u001b[39m\u001b[32m3\u001b[39m \u001b[38;5;28;43;01mclass\u001b[39;49;00m\u001b[38;5;250;43m \u001b[39;49m\u001b[34;43;01mA\u001b[39;49;00m\u001b[43m:\u001b[49m\n\u001b[32m      4\u001b[39m \u001b[43m    \u001b[49m\u001b[43mpublic\u001b[49m\u001b[43m=\u001b[49m\u001b[32;43m20\u001b[39;49m\u001b[43m \u001b[49m\u001b[38;5;66;43;03m#public\u001b[39;49;00m\n\u001b[32m      5\u001b[39m \u001b[43m    \u001b[49m\u001b[43m_protected\u001b[49m\u001b[43m=\u001b[49m\u001b[32;43m10\u001b[39;49m\u001b[43m \u001b[49m\u001b[38;5;66;43;03m# protected\u001b[39;49;00m\n",
      "\u001b[36mCell\u001b[39m\u001b[36m \u001b[39m\u001b[32mIn[23]\u001b[39m\u001b[32m, line 16\u001b[39m, in \u001b[36mA\u001b[39m\u001b[34m()\u001b[39m\n\u001b[32m     13\u001b[39m \u001b[38;5;28;01mdef\u001b[39;00m\u001b[38;5;250m \u001b[39m\u001b[34madd\u001b[39m(\u001b[38;5;28mself\u001b[39m):\n\u001b[32m     14\u001b[39m    \u001b[38;5;28mself\u001b[39m.__private=\u001b[38;5;28mself\u001b[39m.public+\u001b[38;5;28mself\u001b[39m._protected\n\u001b[32m---> \u001b[39m\u001b[32m16\u001b[39m \u001b[38;5;28mprint\u001b[39m(\u001b[33m\"\u001b[39m\u001b[33maddition\u001b[39m\u001b[33m\"\u001b[39m, \u001b[38;5;28;43mself\u001b[39;49m.__private)\n",
      "\u001b[31mNameError\u001b[39m: name 'self' is not defined"
     ]
    }
   ],
   "source": [
    "#access   modifiey\n",
    "#type -> 1.public a ,2.protected_a ,3.private __a,\n",
    "class A:\n",
    "    public=20 #public\n",
    "    _protected=10 # protected\n",
    "    __private=100 #private\n",
    "    print(public,\"\",_protected,\"\",__private)\n",
    "    print(\"\")\n",
    "\n",
    "   \n",
    "        \n",
    "\n",
    "    def add(self):\n",
    "       self.__private=self.public+self._protected\n",
    "\n",
    "    print(\"addition\", self.__private)\n",
    "class B(A):\n",
    "    def show(self):\n",
    "  \n",
    "        print\n",
    "\n"
   ]
  },
  {
   "cell_type": "code",
   "execution_count": 24,
   "id": "b3459072-0a1a-4146-82fc-1ca73247c5cf",
   "metadata": {},
   "outputs": [
    {
     "name": "stdout",
     "output_type": "stream",
     "text": [
      "22  junayed  tulsipur biiii\n"
     ]
    }
   ],
   "source": [
    "#python parameterized constructor\n",
    "class A:\n",
    "    name1=\"biiii\"\n",
    "    def __init__(self,age,name,address):\n",
    "        print(age,\"\",name,\"\",address,self.name1)\n",
    "obj=A(22,\"junayed\",\"tulsipur\" )   "
   ]
  },
  {
   "cell_type": "code",
   "execution_count": 30,
   "id": "ddf231ef-9e73-43aa-a51b-a2cb436f9cde",
   "metadata": {},
   "outputs": [
    {
     "name": "stdin",
     "output_type": "stream",
     "text": [
      "enter F :-  23\n",
      "enter s :-  20\n"
     ]
    },
    {
     "name": "stdout",
     "output_type": "stream",
     "text": [
      "Addition:-  43\n",
      "Substration:-  3\n",
      "multiplcation:-  400\n",
      "division:-  1.0\n"
     ]
    }
   ],
   "source": [
    "#python simple inheritance...\n",
    "\n",
    "class A:\n",
    "    num1=int(input(\"enter F :- \"))\n",
    "    num2=int(input(\"enter s :- \"))\n",
    "    def add(self):\n",
    "        print(\"Addition:- \",self.num1+self.num2)\n",
    "    def Sub(self):\n",
    "        print(\"Substration:- \",self.num1-self.num2)\n",
    "class B(A):    #child class\n",
    "    def multi(self):\n",
    "        print(\"multiplcation:- \",self.num2*self.num2)\n",
    "    def div(self):\n",
    "        print(\"division:- \", self.num2/self.num2)\n",
    "        \n",
    "obj=B()\n",
    "obj.add()\n",
    "obj.Sub()\n",
    "obj.multi()\n",
    "obj.div()\n"
   ]
  },
  {
   "cell_type": "code",
   "execution_count": 32,
   "id": "3b1ad5e0-d289-4b4e-9314-f12e0035deea",
   "metadata": {},
   "outputs": [
    {
     "name": "stdout",
     "output_type": "stream",
     "text": [
      "junayed biswas\n",
      "zero1 biswas\n",
      "junayed biswas\n"
     ]
    }
   ],
   "source": [
    "#multi - level in python \n",
    "class father:\n",
    "    surname=\"biswas\"\n",
    "\n",
    "class bittu(father):\n",
    "    def show(self):\n",
    "        print(\"junayed\",self.surname)\n",
    "\n",
    "class zero1(bittu):\n",
    "    def z1(self):\n",
    "        print(\"zero1\",self.surname)\n",
    "\n",
    "s=bittu()\n",
    "s.show()\n",
    "o=zero1()\n",
    "o.z1()\n",
    "o.show()"
   ]
  },
  {
   "cell_type": "code",
   "execution_count": 33,
   "id": "25394f67-1f1e-4c50-b96c-3cd867c2eb4a",
   "metadata": {},
   "outputs": [],
   "source": [
    "#myltiple-irheritance in python \n",
    "\n"
   ]
  },
  {
   "cell_type": "code",
   "execution_count": 51,
   "id": "1d1d90eb-22a5-4cef-9bcc-9e988dd1073a",
   "metadata": {},
   "outputs": [
    {
     "name": "stdout",
     "output_type": "stream",
     "text": [
      "_a :- 10\n",
      "__b: _ 20\n"
     ]
    }
   ],
   "source": [
    "#python encapsulation\n",
    "class A:\n",
    "    \n",
    "    \n",
    "    _a=10 #protected\n",
    "    __b=20#private\n",
    "    def show(self):\n",
    "        print(\"_a :-\",self._a)\n",
    "        print(\"__b: _\",self.__b)\n",
    "\n",
    "o=A()\n",
    "o.show()\n",
    "#print(\"outsid of class: \", A.__b)"
   ]
  },
  {
   "cell_type": "code",
   "execution_count": 61,
   "id": "404f3178-ec3a-4960-8444-af3dfd6bcd12",
   "metadata": {},
   "outputs": [
    {
     "name": "stdin",
     "output_type": "stream",
     "text": [
      "Enter your value:-  3\n",
      "enter your value1:-  3\n"
     ]
    },
    {
     "name": "stdout",
     "output_type": "stream",
     "text": [
      "33\n"
     ]
    }
   ],
   "source": [
    "#abstarctin in python \n",
    "\n",
    "import fast\n",
    "import fast1\n",
    "#fast1.b_b()\n",
    "fast.num()\n"
   ]
  },
  {
   "cell_type": "code",
   "execution_count": 66,
   "id": "87c8533c-ee69-47b2-a3ba-65ea5a94ae62",
   "metadata": {},
   "outputs": [
    {
     "name": "stdout",
     "output_type": "stream",
     "text": [
      "Every car has 4 wheels\n",
      "speed is 100km/h\n",
      "Every car has 4 wheels\n",
      "speed is 70km/h\n"
     ]
    }
   ],
   "source": [
    "#absttract class \n",
    "from abc import ABC,abstractmethod\n",
    "class car(ABC):\n",
    "    def show(self):\n",
    "        print(\"Every car has 4 wheels\")\n",
    "    @abstractmethod\n",
    "    def speed(self):\n",
    "        pass\n",
    "class maruti(car):\n",
    "    def speed(self):\n",
    "        print(\"speed is 100km/h\")\n",
    "class suzuki(car):\n",
    "    def speed (self):\n",
    "        print(\"speed is 70km/h\")\n",
    "\n",
    "obj=maruti()\n",
    "obj.show()\n",
    "obj.speed()\n",
    "\n",
    "obj1=suzuki()\n",
    "obj1.show()\n",
    "obj1.speed()\n",
    "\n",
    "        "
   ]
  },
  {
   "cell_type": "code",
   "execution_count": 81,
   "id": "c5561395-1fd4-4a71-94b1-bcc0b790272c",
   "metadata": {},
   "outputs": [
    {
     "name": "stdout",
     "output_type": "stream",
     "text": [
      "hello bittu\n",
      "hello junayed\n"
     ]
    }
   ],
   "source": [
    "#interface in python \n",
    "from abc import ABC,abstractmethod\n",
    "class shape(ABC):\n",
    "    @abstractmethod\n",
    "    def show(self):\n",
    "        pass\n",
    "class sq(shape):\n",
    "    def show(self):\n",
    "        print(\"hello bittu\")\n",
    "class gg(shape):\n",
    "    def show(self):\n",
    "        print(\"hello junayed\")\n",
    "\n",
    "o=sq()\n",
    "o.show()\n",
    "c=gg()\n",
    "c.show()\n"
   ]
  },
  {
   "cell_type": "code",
   "execution_count": 76,
   "id": "4349de15-a3ee-46d9-ae56-d315bff0130b",
   "metadata": {},
   "outputs": [
    {
     "name": "stdout",
     "output_type": "stream",
     "text": [
      "10\n",
      "55\n",
      "10\n",
      "3\n"
     ]
    }
   ],
   "source": [
    "#polymorphism in python \n",
    "print(5+5)\n",
    "print(\"5\"+\"5\")\n",
    "print(len(\"bittu alam\"))\n",
    "print(len([\"bittu\",\"alam\",\"junayed\"]))\n"
   ]
  },
  {
   "cell_type": "code",
   "execution_count": 85,
   "id": "6f8d5337-c532-4979-9382-7257a6c21f9a",
   "metadata": {},
   "outputs": [
    {
     "name": "stdout",
     "output_type": "stream",
     "text": [
      "hello  \n",
      "hello bittu \n",
      "hello junayed alam\n"
     ]
    }
   ],
   "source": [
    "#method ovrloading in python \n",
    "class A:\n",
    "    def show(self):\n",
    "        print(\"hello world\")\n",
    "    def show(self,fastname=\"\"):\n",
    "        \n",
    "        print(\"hello\",fastname)\n",
    "    def show(self,fastname=\"\",lastname=\"\"):\n",
    "        print(\"hello\",fastname,lastname)\n",
    "\n",
    "m=A()\n",
    "m.show()\n",
    "m.show(\"bittu\")\n",
    "m.show(\"junayed\",\"alam\")"
   ]
  },
  {
   "cell_type": "code",
   "execution_count": 88,
   "id": "17ed68da-2ae9-424e-a088-79fb599518ed",
   "metadata": {},
   "outputs": [
    {
     "name": "stdout",
     "output_type": "stream",
     "text": [
      "this is a parent class \n",
      "this is a child class \n"
     ]
    }
   ],
   "source": [
    "#method overriding in python\n",
    "class A:#parent class\n",
    "    def show(self):\n",
    "        print(\"this is a parent class \")\n",
    "class B(A):#child class in python\n",
    "    def show(self):\n",
    "        super().show() # parent class call mathods in python\n",
    "        print( \"this is a child class \")\n",
    "\n",
    "obj=B()\n",
    "obj.show()"
   ]
  },
  {
   "cell_type": "code",
   "execution_count": 102,
   "id": "5bf69d75-12ed-4d5b-9c9d-5f7494fcd281",
   "metadata": {},
   "outputs": [
    {
     "name": "stdout",
     "output_type": "stream",
     "text": [
      "bittu\n",
      "junayed\n",
      "nnnnnnnnnnnn\n",
      "bittu\n",
      "junayed\n",
      "bittujunayed\n",
      "\n",
      "junayedbittu\n",
      "\n",
      "bittujunayed\n",
      "\n",
      "junayedbittu\n",
      "\n",
      "bittujunayed\n",
      "\n"
     ]
    }
   ],
   "source": [
    "#multi-thrading in python \n",
    "from time import sleep\n",
    "from threading import Thread\n",
    "class A(Thread):\n",
    "    def run(self):\n",
    "        for i in range(7):\n",
    "            print(\"bittu\")\n",
    "            sleep(1)\n",
    "\n",
    "class B(Thread):\n",
    "    def run (self):\n",
    "        for i in range(7):\n",
    "            print(\"junayed\")\n",
    "            sleep(1)\n",
    "\n",
    "obj=A()\n",
    "obj1=B()\n",
    "obj.start()\n",
    "obj1.start()\n",
    "\n",
    "print(\"nnnnnnnnnnnn\")"
   ]
  },
  {
   "cell_type": "code",
   "execution_count": null,
   "id": "8b894f54-0530-4e76-ab14-c3d185b1fa6c",
   "metadata": {},
   "outputs": [],
   "source": []
  },
  {
   "cell_type": "code",
   "execution_count": null,
   "id": "7a0336e9-4dea-46fb-8f79-d6f124af1931",
   "metadata": {},
   "outputs": [],
   "source": []
  }
 ],
 "metadata": {
  "kernelspec": {
   "display_name": "Python 3 (ipykernel)",
   "language": "python",
   "name": "python3"
  },
  "language_info": {
   "codemirror_mode": {
    "name": "ipython",
    "version": 3
   },
   "file_extension": ".py",
   "mimetype": "text/x-python",
   "name": "python",
   "nbconvert_exporter": "python",
   "pygments_lexer": "ipython3",
   "version": "3.13.5"
  }
 },
 "nbformat": 4,
 "nbformat_minor": 5
}
